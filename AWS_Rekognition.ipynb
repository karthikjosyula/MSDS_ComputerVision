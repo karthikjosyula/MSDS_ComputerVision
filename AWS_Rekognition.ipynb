{
 "cells": [
  {
   "cell_type": "code",
   "execution_count": 1,
   "metadata": {},
   "outputs": [],
   "source": [
    "import csv\n",
    "import boto3"
   ]
  },
  {
   "cell_type": "code",
   "execution_count": 9,
   "metadata": {},
   "outputs": [],
   "source": [
    "def ObjectSceneDetection(picture='bikers.jpeg'):\n",
    "    with open('credentials.csv', 'r') as input:\n",
    "        next(input)\n",
    "        reader = csv.reader(input)\n",
    "        for ln in reader:\n",
    "            access_key_id = ln[2]\n",
    "            secret_access_key = ln[3]\n",
    "    client = boto3.client('rekognition',\n",
    "                              aws_access_key_id = access_key_id,\n",
    "                              aws_secret_access_key = secret_access_key,\n",
    "                              region_name='us-east-1'\n",
    "                             )\n",
    "    with open(picture, 'rb') as source_image:\n",
    "        source_bytes = source_image.read()\n",
    "    response = client.detect_labels(Image={'Bytes': source_bytes}, MaxLabels =10)    \n",
    "    print(response)"
   ]
  },
  {
   "cell_type": "code",
   "execution_count": 10,
   "metadata": {},
   "outputs": [
    {
     "name": "stdout",
     "output_type": "stream",
     "text": [
      "{'Labels': [{'Name': 'Spoke', 'Confidence': 99.97134399414062, 'Instances': [], 'Parents': [{'Name': 'Machine'}]}, {'Name': 'Machine', 'Confidence': 99.97134399414062, 'Instances': [], 'Parents': []}, {'Name': 'Alloy Wheel', 'Confidence': 99.96678161621094, 'Instances': [], 'Parents': [{'Name': 'Spoke'}, {'Name': 'Machine'}, {'Name': 'Wheel'}]}, {'Name': 'Wheel', 'Confidence': 99.96678161621094, 'Instances': [{'BoundingBox': {'Width': 0.10352146625518799, 'Height': 0.4434562027454376, 'Left': 0.8580706119537354, 'Top': 0.3202333152294159}, 'Confidence': 99.07444763183594}], 'Parents': [{'Name': 'Machine'}]}, {'Name': 'Tire', 'Confidence': 99.90432739257812, 'Instances': [], 'Parents': []}, {'Name': 'Car Wheel', 'Confidence': 99.3656997680664, 'Instances': [], 'Parents': [{'Name': 'Tire'}, {'Name': 'Machine'}, {'Name': 'Wheel'}]}, {'Name': 'Vehicle', 'Confidence': 95.98300170898438, 'Instances': [], 'Parents': []}, {'Name': 'Car', 'Confidence': 95.98300170898438, 'Instances': [{'BoundingBox': {'Width': 0.9840939044952393, 'Height': 0.9991312026977539, 'Left': 0.015417814254760742, 'Top': 0.0}, 'Confidence': 95.98300170898438}], 'Parents': [{'Name': 'Vehicle'}]}, {'Name': 'Text', 'Confidence': 60.735511779785156, 'Instances': [], 'Parents': []}, {'Name': 'Logo', 'Confidence': 55.14755630493164, 'Instances': [], 'Parents': []}], 'LabelModelVersion': '2.0', 'ResponseMetadata': {'RequestId': 'c2157376-04f1-4c57-bf17-81987a898e43', 'HTTPStatusCode': 200, 'HTTPHeaders': {'content-type': 'application/x-amz-json-1.1', 'date': 'Mon, 03 Feb 2020 00:48:14 GMT', 'x-amzn-requestid': 'c2157376-04f1-4c57-bf17-81987a898e43', 'content-length': '1260', 'connection': 'keep-alive'}, 'RetryAttempts': 0}}\n"
     ]
    }
   ],
   "source": [
    "ObjectSceneDetection('car.jpeg')"
   ]
  },
  {
   "cell_type": "code",
   "execution_count": 11,
   "metadata": {},
   "outputs": [
    {
     "name": "stdout",
     "output_type": "stream",
     "text": [
      "{'Labels': [{'Name': 'Person', 'Confidence': 99.75625610351562, 'Instances': [{'BoundingBox': {'Width': 0.29943716526031494, 'Height': 0.7979658246040344, 'Left': 0.6526068449020386, 'Top': 0.08556577563285828}, 'Confidence': 99.75625610351562}, {'BoundingBox': {'Width': 0.07182802259922028, 'Height': 0.2258741557598114, 'Left': 0.028826715424656868, 'Top': 0.672537624835968}, 'Confidence': 99.73915100097656}, {'BoundingBox': {'Width': 0.07929603010416031, 'Height': 0.15356943011283875, 'Left': 0.6395903825759888, 'Top': 0.6430769562721252}, 'Confidence': 97.97974395751953}, {'BoundingBox': {'Width': 0.03428145498037338, 'Height': 0.09555742889642715, 'Left': 0.19904443621635437, 'Top': 0.7242605686187744}, 'Confidence': 95.47225952148438}, {'BoundingBox': {'Width': 0.03586341068148613, 'Height': 0.08107062429189682, 'Left': 0.1295563131570816, 'Top': 0.7277505993843079}, 'Confidence': 90.51475524902344}, {'BoundingBox': {'Width': 0.033183034509420395, 'Height': 0.08845813572406769, 'Left': 0.16813668608665466, 'Top': 0.7422393560409546}, 'Confidence': 85.432373046875}, {'BoundingBox': {'Width': 0.02641805075109005, 'Height': 0.07528369873762131, 'Left': 0.6148151755332947, 'Top': 0.653633177280426}, 'Confidence': 81.90666198730469}, {'BoundingBox': {'Width': 0.034582603722810745, 'Height': 0.07446345686912537, 'Left': 0.43606406450271606, 'Top': 0.7183144688606262}, 'Confidence': 70.44563293457031}, {'BoundingBox': {'Width': 0.04895256832242012, 'Height': 0.10675162076950073, 'Left': 0.45778483152389526, 'Top': 0.6873171329498291}, 'Confidence': 67.88414001464844}], 'Parents': []}, {'Name': 'Transportation', 'Confidence': 98.99678802490234, 'Instances': [], 'Parents': []}, {'Name': 'Vehicle', 'Confidence': 98.99678802490234, 'Instances': [], 'Parents': [{'Name': 'Transportation'}]}, {'Name': 'Motorcycle', 'Confidence': 98.99678802490234, 'Instances': [{'BoundingBox': {'Width': 0.1627163589000702, 'Height': 0.14272291958332062, 'Left': 0.334962397813797, 'Top': 0.7244874238967896}, 'Confidence': 98.99678802490234}, {'BoundingBox': {'Width': 0.16372154653072357, 'Height': 0.15357767045497894, 'Left': 0.4958498179912567, 'Top': 0.7013322114944458}, 'Confidence': 98.03578186035156}, {'BoundingBox': {'Width': 0.22489488124847412, 'Height': 0.14994032680988312, 'Left': 0.12826792895793915, 'Top': 0.7376757860183716}, 'Confidence': 97.31272888183594}, {'BoundingBox': {'Width': 0.13837774097919464, 'Height': 0.1459931582212448, 'Left': 0.0026357173919677734, 'Top': 0.7544680833816528}, 'Confidence': 94.18609619140625}, {'BoundingBox': {'Width': 0.06548665463924408, 'Height': 0.11182510852813721, 'Left': 0.9331244826316833, 'Top': 0.6905241012573242}, 'Confidence': 76.14163970947266}], 'Parents': [{'Name': 'Vehicle'}, {'Name': 'Transportation'}]}, {'Name': 'Machine', 'Confidence': 97.5300521850586, 'Instances': [], 'Parents': []}, {'Name': 'Wheel', 'Confidence': 97.5300521850586, 'Instances': [{'BoundingBox': {'Width': 0.06714773923158646, 'Height': 0.08071311563253403, 'Left': 0.4957250952720642, 'Top': 0.7770609259605408}, 'Confidence': 97.5300521850586}, {'BoundingBox': {'Width': 0.06843765825033188, 'Height': 0.06775794923305511, 'Left': 0.12982724606990814, 'Top': 0.8250837326049805}, 'Confidence': 91.0184097290039}, {'BoundingBox': {'Width': 0.052969105541706085, 'Height': 0.06901979446411133, 'Left': 0.21759483218193054, 'Top': 0.8159083127975464}, 'Confidence': 78.55184173583984}, {'BoundingBox': {'Width': 0.038792934268713, 'Height': 0.07409746944904327, 'Left': 0.0005200690939091146, 'Top': 0.8287347555160522}, 'Confidence': 77.39900207519531}, {'BoundingBox': {'Width': 0.06260036677122116, 'Height': 0.07393041253089905, 'Left': 0.6349852085113525, 'Top': 0.7647742033004761}, 'Confidence': 69.05419921875}], 'Parents': [{'Name': 'Machine'}]}, {'Name': 'Clothing', 'Confidence': 86.17818450927734, 'Instances': [], 'Parents': []}, {'Name': 'Pants', 'Confidence': 78.81230163574219, 'Instances': [], 'Parents': [{'Name': 'Clothing'}]}, {'Name': 'Motor', 'Confidence': 73.84806823730469, 'Instances': [], 'Parents': [{'Name': 'Machine'}]}, {'Name': 'Helmet', 'Confidence': 69.06675720214844, 'Instances': [{'BoundingBox': {'Width': 0.03076731413602829, 'Height': 0.05010376125574112, 'Left': 0.4625164568424225, 'Top': 0.6871507167816162}, 'Confidence': 69.06675720214844}], 'Parents': [{'Name': 'Clothing'}]}], 'LabelModelVersion': '2.0', 'ResponseMetadata': {'RequestId': '5ab29494-6030-48ca-b8d7-1236b2f2faa0', 'HTTPStatusCode': 200, 'HTTPHeaders': {'content-type': 'application/x-amz-json-1.1', 'date': 'Mon, 03 Feb 2020 00:59:47 GMT', 'x-amzn-requestid': '5ab29494-6030-48ca-b8d7-1236b2f2faa0', 'content-length': '4100', 'connection': 'keep-alive'}, 'RetryAttempts': 0}}\n"
     ]
    }
   ],
   "source": [
    "ObjectSceneDetection('bikers.jpeg')"
   ]
  },
  {
   "cell_type": "code",
   "execution_count": 12,
   "metadata": {},
   "outputs": [
    {
     "name": "stdout",
     "output_type": "stream",
     "text": [
      "{'Labels': [{'Name': 'Person', 'Confidence': 99.53089141845703, 'Instances': [{'BoundingBox': {'Width': 0.30595558881759644, 'Height': 0.27321070432662964, 'Left': 0.32412075996398926, 'Top': 0.35056033730506897}, 'Confidence': 99.53089141845703}], 'Parents': []}, {'Name': 'Human', 'Confidence': 99.53089141845703, 'Instances': [], 'Parents': []}, {'Name': 'Studio', 'Confidence': 98.3878173828125, 'Instances': [], 'Parents': []}, {'Name': 'Tripod', 'Confidence': 95.13082122802734, 'Instances': [], 'Parents': []}, {'Name': 'Photo', 'Confidence': 65.35905456542969, 'Instances': [], 'Parents': [{'Name': 'Person'}]}, {'Name': 'Photography', 'Confidence': 65.35905456542969, 'Instances': [], 'Parents': [{'Name': 'Person'}]}], 'LabelModelVersion': '2.0', 'ResponseMetadata': {'RequestId': '28205c4e-0f65-45f8-896f-d8b067f4e0c6', 'HTTPStatusCode': 200, 'HTTPHeaders': {'content-type': 'application/x-amz-json-1.1', 'date': 'Mon, 03 Feb 2020 01:00:18 GMT', 'x-amzn-requestid': '28205c4e-0f65-45f8-896f-d8b067f4e0c6', 'content-length': '694', 'connection': 'keep-alive'}, 'RetryAttempts': 0}}\n"
     ]
    }
   ],
   "source": [
    "ObjectSceneDetection('drummer.jpeg')"
   ]
  },
  {
   "cell_type": "code",
   "execution_count": null,
   "metadata": {},
   "outputs": [],
   "source": []
  }
 ],
 "metadata": {
  "kernelspec": {
   "display_name": "Python 3",
   "language": "python",
   "name": "python3"
  },
  "language_info": {
   "codemirror_mode": {
    "name": "ipython",
    "version": 3
   },
   "file_extension": ".py",
   "mimetype": "text/x-python",
   "name": "python",
   "nbconvert_exporter": "python",
   "pygments_lexer": "ipython3",
   "version": "3.7.3"
  }
 },
 "nbformat": 4,
 "nbformat_minor": 2
}
